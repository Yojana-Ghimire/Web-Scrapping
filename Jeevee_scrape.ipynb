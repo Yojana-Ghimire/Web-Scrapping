{
 "cells": [
  {
   "cell_type": "code",
   "execution_count": 27,
   "id": "2b25f555-ebbd-48af-afc6-3d8d5f1b3699",
   "metadata": {},
   "outputs": [],
   "source": [
    "from selenium import webdriver\n",
    "from selenium.webdriver.support.ui import WebDriverWait\n",
    "from selenium.webdriver.common.by import By\n",
    "\n",
    "from selenium.webdriver.support import expected_conditions as EC\n",
    "\n",
    "from bs4 import BeautifulSoup\n",
    "import pandas as pd"
   ]
  },
  {
   "cell_type": "code",
   "execution_count": 3,
   "id": "cd5e23c8-6420-4c87-a307-4dac3673245a",
   "metadata": {},
   "outputs": [],
   "source": [
    "driver=webdriver.Chrome()\n",
    "url=\"https://www.jeevee.com/product-campaigns/jeevee-focused-products-670\"\n",
    "driver.get(url)"
   ]
  },
  {
   "cell_type": "code",
   "execution_count": 4,
   "id": "493b8147-b2f5-4c32-ac1e-dcc24d206447",
   "metadata": {},
   "outputs": [],
   "source": [
    "html=driver.page_source\n",
    "soup=BeautifulSoup(html,'html.parser')"
   ]
  },
  {
   "cell_type": "code",
   "execution_count": 7,
   "id": "8417d0fe-583b-4a34-920f-36fadc146901",
   "metadata": {},
   "outputs": [],
   "source": [
    "product_containers = soup.find_all('div', class_='grid products_productGridWithFilter__2nN2G app-gap')"
   ]
  },
  {
   "cell_type": "code",
   "execution_count": 9,
   "id": "3136c6b5-fb62-4f4d-8a18-8e23620ae696",
   "metadata": {},
   "outputs": [
    {
     "data": {
      "text/plain": [
       "[<div class=\"grid products_productGridWithFilter__2nN2G app-gap\"><div class=\"app-shadow border bg-white app-rounded shrink-0 relative\"><div class=\"animate-pulse\"><div class=\"w-full aspect-product-image bg-rand-300\"></div><div class=\"h-0.5 bg-rand-400\"></div><div class=\"overflow-hidden products_itemPadding__4x5YE\"><div class=\"h-7 sm:h-[44px] mb-1\"><div class=\"leading-[1.2] w-full bg-rand-300 products_loaderLabelHeight__GcYCk mb-0.5\"></div><div class=\"w-16 bg-rand-300 mb-1 products_loaderLabelHeight__GcYCk\"></div></div><div class=\"invisible text-center text-xs sm:text-base lg:text-lg xl:text-xl\"><span class=\"leading-none\"><span class=\"text-xxs sm:text-xs lg:text-sm xl:text-lg font-medium xl:font-normal\">NPR. </span>0000</span><span class=\"text-error-500 font-bold border-l border-rand-100 leading-none pl-1 ml-1\">0%off</span></div><div class=\"mt-1 h-[10px] sm:h-[16px]\"></div><div class=\"lg:hidden space-x-2 flex items-center mt-2\"><span class=\"bg-transparent w-6 h-6 sm:w-8 sm:h-8 select-none text-base leading-none flex items-center justify-center\"><svg class=\"w-6 h-6 sm:w-8 sm:h-8\" viewbox=\"0 0 500 500\" xmlns=\"http://www.w3.org/2000/svg\"><path d=\"M249.73,455.36a12.61,12.61,0,0,1-9.27-4L66.28,277.18A136.18,136.18,0,0,1,162.91,44.64a137.55,137.55,0,0,1,85.51,29.75l1.87,1.46,1.86-1.48a135.35,135.35,0,0,1,85.48-29.73c36.11,0,70.43,14.15,96.66,39.84a137.26,137.26,0,0,1,39.25,96.61,135.63,135.63,0,0,1-39.82,96.63L259.63,451.27C256.35,454.06,253.2,455.36,249.73,455.36ZM162.91,71.19c-29.84,0-57.58,11.3-78.09,31.81a110.1,110.1,0,0,0,0,155.63l164.9,164.9L414.63,259.18a109.89,109.89,0,0,0,31.81-78.09c0-29.63-11.09-57.36-31.23-78.06a110.42,110.42,0,0,0-155.12,0,12.73,12.73,0,0,1-18.55,0C219.9,82.47,192,71.19,162.91,71.19Z\" fill=\"#dedddc\"></path></svg></span><div class=\"rounded-full bg-rand-300 w-full h-[25.6px] sm:h-[36px]\"></div></div></div></div></div><div class=\"app-shadow border bg-white app-rounded shrink-0 relative\"><div class=\"animate-pulse\"><div class=\"w-full aspect-product-image bg-rand-300\"></div><div class=\"h-0.5 bg-rand-400\"></div><div class=\"overflow-hidden products_itemPadding__4x5YE\"><div class=\"h-7 sm:h-[44px] mb-1\"><div class=\"leading-[1.2] w-full bg-rand-300 products_loaderLabelHeight__GcYCk mb-0.5\"></div><div class=\"w-16 bg-rand-300 mb-1 products_loaderLabelHeight__GcYCk\"></div></div><div class=\"invisible text-center text-xs sm:text-base lg:text-lg xl:text-xl\"><span class=\"leading-none\"><span class=\"text-xxs sm:text-xs lg:text-sm xl:text-lg font-medium xl:font-normal\">NPR. </span>0000</span><span class=\"text-error-500 font-bold border-l border-rand-100 leading-none pl-1 ml-1\">0%off</span></div><div class=\"mt-1 h-[10px] sm:h-[16px]\"></div><div class=\"lg:hidden space-x-2 flex items-center mt-2\"><span class=\"bg-transparent w-6 h-6 sm:w-8 sm:h-8 select-none text-base leading-none flex items-center justify-center\"><svg class=\"w-6 h-6 sm:w-8 sm:h-8\" viewbox=\"0 0 500 500\" xmlns=\"http://www.w3.org/2000/svg\"><path d=\"M249.73,455.36a12.61,12.61,0,0,1-9.27-4L66.28,277.18A136.18,136.18,0,0,1,162.91,44.64a137.55,137.55,0,0,1,85.51,29.75l1.87,1.46,1.86-1.48a135.35,135.35,0,0,1,85.48-29.73c36.11,0,70.43,14.15,96.66,39.84a137.26,137.26,0,0,1,39.25,96.61,135.63,135.63,0,0,1-39.82,96.63L259.63,451.27C256.35,454.06,253.2,455.36,249.73,455.36ZM162.91,71.19c-29.84,0-57.58,11.3-78.09,31.81a110.1,110.1,0,0,0,0,155.63l164.9,164.9L414.63,259.18a109.89,109.89,0,0,0,31.81-78.09c0-29.63-11.09-57.36-31.23-78.06a110.42,110.42,0,0,0-155.12,0,12.73,12.73,0,0,1-18.55,0C219.9,82.47,192,71.19,162.91,71.19Z\" fill=\"#dedddc\"></path></svg></span><div class=\"rounded-full bg-rand-300 w-full h-[25.6px] sm:h-[36px]\"></div></div></div></div></div><div class=\"app-shadow border bg-white app-rounded shrink-0 relative hidden sm:block\"><div class=\"animate-pulse\"><div class=\"w-full aspect-product-image bg-rand-300\"></div><div class=\"h-0.5 bg-rand-400\"></div><div class=\"overflow-hidden products_itemPadding__4x5YE\"><div class=\"h-7 sm:h-[44px] mb-1\"><div class=\"leading-[1.2] w-full bg-rand-300 products_loaderLabelHeight__GcYCk mb-0.5\"></div><div class=\"w-16 bg-rand-300 mb-1 products_loaderLabelHeight__GcYCk\"></div></div><div class=\"invisible text-center text-xs sm:text-base lg:text-lg xl:text-xl\"><span class=\"leading-none\"><span class=\"text-xxs sm:text-xs lg:text-sm xl:text-lg font-medium xl:font-normal\">NPR. </span>0000</span><span class=\"text-error-500 font-bold border-l border-rand-100 leading-none pl-1 ml-1\">0%off</span></div><div class=\"mt-1 h-[10px] sm:h-[16px]\"></div><div class=\"lg:hidden space-x-2 flex items-center mt-2\"><span class=\"bg-transparent w-6 h-6 sm:w-8 sm:h-8 select-none text-base leading-none flex items-center justify-center\"><svg class=\"w-6 h-6 sm:w-8 sm:h-8\" viewbox=\"0 0 500 500\" xmlns=\"http://www.w3.org/2000/svg\"><path d=\"M249.73,455.36a12.61,12.61,0,0,1-9.27-4L66.28,277.18A136.18,136.18,0,0,1,162.91,44.64a137.55,137.55,0,0,1,85.51,29.75l1.87,1.46,1.86-1.48a135.35,135.35,0,0,1,85.48-29.73c36.11,0,70.43,14.15,96.66,39.84a137.26,137.26,0,0,1,39.25,96.61,135.63,135.63,0,0,1-39.82,96.63L259.63,451.27C256.35,454.06,253.2,455.36,249.73,455.36ZM162.91,71.19c-29.84,0-57.58,11.3-78.09,31.81a110.1,110.1,0,0,0,0,155.63l164.9,164.9L414.63,259.18a109.89,109.89,0,0,0,31.81-78.09c0-29.63-11.09-57.36-31.23-78.06a110.42,110.42,0,0,0-155.12,0,12.73,12.73,0,0,1-18.55,0C219.9,82.47,192,71.19,162.91,71.19Z\" fill=\"#dedddc\"></path></svg></span><div class=\"rounded-full bg-rand-300 w-full h-[25.6px] sm:h-[36px]\"></div></div></div></div></div><div class=\"app-shadow border bg-white app-rounded shrink-0 relative hidden xl:block\"><div class=\"animate-pulse\"><div class=\"w-full aspect-product-image bg-rand-300\"></div><div class=\"h-0.5 bg-rand-400\"></div><div class=\"overflow-hidden products_itemPadding__4x5YE\"><div class=\"h-7 sm:h-[44px] mb-1\"><div class=\"leading-[1.2] w-full bg-rand-300 products_loaderLabelHeight__GcYCk mb-0.5\"></div><div class=\"w-16 bg-rand-300 mb-1 products_loaderLabelHeight__GcYCk\"></div></div><div class=\"invisible text-center text-xs sm:text-base lg:text-lg xl:text-xl\"><span class=\"leading-none\"><span class=\"text-xxs sm:text-xs lg:text-sm xl:text-lg font-medium xl:font-normal\">NPR. </span>0000</span><span class=\"text-error-500 font-bold border-l border-rand-100 leading-none pl-1 ml-1\">0%off</span></div><div class=\"mt-1 h-[10px] sm:h-[16px]\"></div><div class=\"lg:hidden space-x-2 flex items-center mt-2\"><span class=\"bg-transparent w-6 h-6 sm:w-8 sm:h-8 select-none text-base leading-none flex items-center justify-center\"><svg class=\"w-6 h-6 sm:w-8 sm:h-8\" viewbox=\"0 0 500 500\" xmlns=\"http://www.w3.org/2000/svg\"><path d=\"M249.73,455.36a12.61,12.61,0,0,1-9.27-4L66.28,277.18A136.18,136.18,0,0,1,162.91,44.64a137.55,137.55,0,0,1,85.51,29.75l1.87,1.46,1.86-1.48a135.35,135.35,0,0,1,85.48-29.73c36.11,0,70.43,14.15,96.66,39.84a137.26,137.26,0,0,1,39.25,96.61,135.63,135.63,0,0,1-39.82,96.63L259.63,451.27C256.35,454.06,253.2,455.36,249.73,455.36ZM162.91,71.19c-29.84,0-57.58,11.3-78.09,31.81a110.1,110.1,0,0,0,0,155.63l164.9,164.9L414.63,259.18a109.89,109.89,0,0,0,31.81-78.09c0-29.63-11.09-57.36-31.23-78.06a110.42,110.42,0,0,0-155.12,0,12.73,12.73,0,0,1-18.55,0C219.9,82.47,192,71.19,162.91,71.19Z\" fill=\"#dedddc\"></path></svg></span><div class=\"rounded-full bg-rand-300 w-full h-[25.6px] sm:h-[36px]\"></div></div></div></div></div><div class=\"app-shadow border bg-white app-rounded shrink-0 relative\"><div class=\"animate-pulse\"><div class=\"w-full aspect-product-image bg-rand-300\"></div><div class=\"h-0.5 bg-rand-400\"></div><div class=\"overflow-hidden products_itemPadding__4x5YE\"><div class=\"h-7 sm:h-[44px] mb-1\"><div class=\"leading-[1.2] w-full bg-rand-300 products_loaderLabelHeight__GcYCk mb-0.5\"></div><div class=\"w-16 bg-rand-300 mb-1 products_loaderLabelHeight__GcYCk\"></div></div><div class=\"invisible text-center text-xs sm:text-base lg:text-lg xl:text-xl\"><span class=\"leading-none\"><span class=\"text-xxs sm:text-xs lg:text-sm xl:text-lg font-medium xl:font-normal\">NPR. </span>0000</span><span class=\"text-error-500 font-bold border-l border-rand-100 leading-none pl-1 ml-1\">0%off</span></div><div class=\"mt-1 h-[10px] sm:h-[16px]\"></div><div class=\"lg:hidden space-x-2 flex items-center mt-2\"><span class=\"bg-transparent w-6 h-6 sm:w-8 sm:h-8 select-none text-base leading-none flex items-center justify-center\"><svg class=\"w-6 h-6 sm:w-8 sm:h-8\" viewbox=\"0 0 500 500\" xmlns=\"http://www.w3.org/2000/svg\"><path d=\"M249.73,455.36a12.61,12.61,0,0,1-9.27-4L66.28,277.18A136.18,136.18,0,0,1,162.91,44.64a137.55,137.55,0,0,1,85.51,29.75l1.87,1.46,1.86-1.48a135.35,135.35,0,0,1,85.48-29.73c36.11,0,70.43,14.15,96.66,39.84a137.26,137.26,0,0,1,39.25,96.61,135.63,135.63,0,0,1-39.82,96.63L259.63,451.27C256.35,454.06,253.2,455.36,249.73,455.36ZM162.91,71.19c-29.84,0-57.58,11.3-78.09,31.81a110.1,110.1,0,0,0,0,155.63l164.9,164.9L414.63,259.18a109.89,109.89,0,0,0,31.81-78.09c0-29.63-11.09-57.36-31.23-78.06a110.42,110.42,0,0,0-155.12,0,12.73,12.73,0,0,1-18.55,0C219.9,82.47,192,71.19,162.91,71.19Z\" fill=\"#dedddc\"></path></svg></span><div class=\"rounded-full bg-rand-300 w-full h-[25.6px] sm:h-[36px]\"></div></div></div></div></div><div class=\"app-shadow border bg-white app-rounded shrink-0 relative\"><div class=\"animate-pulse\"><div class=\"w-full aspect-product-image bg-rand-300\"></div><div class=\"h-0.5 bg-rand-400\"></div><div class=\"overflow-hidden products_itemPadding__4x5YE\"><div class=\"h-7 sm:h-[44px] mb-1\"><div class=\"leading-[1.2] w-full bg-rand-300 products_loaderLabelHeight__GcYCk mb-0.5\"></div><div class=\"w-16 bg-rand-300 mb-1 products_loaderLabelHeight__GcYCk\"></div></div><div class=\"invisible text-center text-xs sm:text-base lg:text-lg xl:text-xl\"><span class=\"leading-none\"><span class=\"text-xxs sm:text-xs lg:text-sm xl:text-lg font-medium xl:font-normal\">NPR. </span>0000</span><span class=\"text-error-500 font-bold border-l border-rand-100 leading-none pl-1 ml-1\">0%off</span></div><div class=\"mt-1 h-[10px] sm:h-[16px]\"></div><div class=\"lg:hidden space-x-2 flex items-center mt-2\"><span class=\"bg-transparent w-6 h-6 sm:w-8 sm:h-8 select-none text-base leading-none flex items-center justify-center\"><svg class=\"w-6 h-6 sm:w-8 sm:h-8\" viewbox=\"0 0 500 500\" xmlns=\"http://www.w3.org/2000/svg\"><path d=\"M249.73,455.36a12.61,12.61,0,0,1-9.27-4L66.28,277.18A136.18,136.18,0,0,1,162.91,44.64a137.55,137.55,0,0,1,85.51,29.75l1.87,1.46,1.86-1.48a135.35,135.35,0,0,1,85.48-29.73c36.11,0,70.43,14.15,96.66,39.84a137.26,137.26,0,0,1,39.25,96.61,135.63,135.63,0,0,1-39.82,96.63L259.63,451.27C256.35,454.06,253.2,455.36,249.73,455.36ZM162.91,71.19c-29.84,0-57.58,11.3-78.09,31.81a110.1,110.1,0,0,0,0,155.63l164.9,164.9L414.63,259.18a109.89,109.89,0,0,0,31.81-78.09c0-29.63-11.09-57.36-31.23-78.06a110.42,110.42,0,0,0-155.12,0,12.73,12.73,0,0,1-18.55,0C219.9,82.47,192,71.19,162.91,71.19Z\" fill=\"#dedddc\"></path></svg></span><div class=\"rounded-full bg-rand-300 w-full h-[25.6px] sm:h-[36px]\"></div></div></div></div></div><div class=\"app-shadow border bg-white app-rounded shrink-0 relative hidden sm:block\"><div class=\"animate-pulse\"><div class=\"w-full aspect-product-image bg-rand-300\"></div><div class=\"h-0.5 bg-rand-400\"></div><div class=\"overflow-hidden products_itemPadding__4x5YE\"><div class=\"h-7 sm:h-[44px] mb-1\"><div class=\"leading-[1.2] w-full bg-rand-300 products_loaderLabelHeight__GcYCk mb-0.5\"></div><div class=\"w-16 bg-rand-300 mb-1 products_loaderLabelHeight__GcYCk\"></div></div><div class=\"invisible text-center text-xs sm:text-base lg:text-lg xl:text-xl\"><span class=\"leading-none\"><span class=\"text-xxs sm:text-xs lg:text-sm xl:text-lg font-medium xl:font-normal\">NPR. </span>0000</span><span class=\"text-error-500 font-bold border-l border-rand-100 leading-none pl-1 ml-1\">0%off</span></div><div class=\"mt-1 h-[10px] sm:h-[16px]\"></div><div class=\"lg:hidden space-x-2 flex items-center mt-2\"><span class=\"bg-transparent w-6 h-6 sm:w-8 sm:h-8 select-none text-base leading-none flex items-center justify-center\"><svg class=\"w-6 h-6 sm:w-8 sm:h-8\" viewbox=\"0 0 500 500\" xmlns=\"http://www.w3.org/2000/svg\"><path d=\"M249.73,455.36a12.61,12.61,0,0,1-9.27-4L66.28,277.18A136.18,136.18,0,0,1,162.91,44.64a137.55,137.55,0,0,1,85.51,29.75l1.87,1.46,1.86-1.48a135.35,135.35,0,0,1,85.48-29.73c36.11,0,70.43,14.15,96.66,39.84a137.26,137.26,0,0,1,39.25,96.61,135.63,135.63,0,0,1-39.82,96.63L259.63,451.27C256.35,454.06,253.2,455.36,249.73,455.36ZM162.91,71.19c-29.84,0-57.58,11.3-78.09,31.81a110.1,110.1,0,0,0,0,155.63l164.9,164.9L414.63,259.18a109.89,109.89,0,0,0,31.81-78.09c0-29.63-11.09-57.36-31.23-78.06a110.42,110.42,0,0,0-155.12,0,12.73,12.73,0,0,1-18.55,0C219.9,82.47,192,71.19,162.91,71.19Z\" fill=\"#dedddc\"></path></svg></span><div class=\"rounded-full bg-rand-300 w-full h-[25.6px] sm:h-[36px]\"></div></div></div></div></div><div class=\"app-shadow border bg-white app-rounded shrink-0 relative hidden xl:block\"><div class=\"animate-pulse\"><div class=\"w-full aspect-product-image bg-rand-300\"></div><div class=\"h-0.5 bg-rand-400\"></div><div class=\"overflow-hidden products_itemPadding__4x5YE\"><div class=\"h-7 sm:h-[44px] mb-1\"><div class=\"leading-[1.2] w-full bg-rand-300 products_loaderLabelHeight__GcYCk mb-0.5\"></div><div class=\"w-16 bg-rand-300 mb-1 products_loaderLabelHeight__GcYCk\"></div></div><div class=\"invisible text-center text-xs sm:text-base lg:text-lg xl:text-xl\"><span class=\"leading-none\"><span class=\"text-xxs sm:text-xs lg:text-sm xl:text-lg font-medium xl:font-normal\">NPR. </span>0000</span><span class=\"text-error-500 font-bold border-l border-rand-100 leading-none pl-1 ml-1\">0%off</span></div><div class=\"mt-1 h-[10px] sm:h-[16px]\"></div><div class=\"lg:hidden space-x-2 flex items-center mt-2\"><span class=\"bg-transparent w-6 h-6 sm:w-8 sm:h-8 select-none text-base leading-none flex items-center justify-center\"><svg class=\"w-6 h-6 sm:w-8 sm:h-8\" viewbox=\"0 0 500 500\" xmlns=\"http://www.w3.org/2000/svg\"><path d=\"M249.73,455.36a12.61,12.61,0,0,1-9.27-4L66.28,277.18A136.18,136.18,0,0,1,162.91,44.64a137.55,137.55,0,0,1,85.51,29.75l1.87,1.46,1.86-1.48a135.35,135.35,0,0,1,85.48-29.73c36.11,0,70.43,14.15,96.66,39.84a137.26,137.26,0,0,1,39.25,96.61,135.63,135.63,0,0,1-39.82,96.63L259.63,451.27C256.35,454.06,253.2,455.36,249.73,455.36ZM162.91,71.19c-29.84,0-57.58,11.3-78.09,31.81a110.1,110.1,0,0,0,0,155.63l164.9,164.9L414.63,259.18a109.89,109.89,0,0,0,31.81-78.09c0-29.63-11.09-57.36-31.23-78.06a110.42,110.42,0,0,0-155.12,0,12.73,12.73,0,0,1-18.55,0C219.9,82.47,192,71.19,162.91,71.19Z\" fill=\"#dedddc\"></path></svg></span><div class=\"rounded-full bg-rand-300 w-full h-[25.6px] sm:h-[36px]\"></div></div></div></div></div></div>]"
      ]
     },
     "execution_count": 9,
     "metadata": {},
     "output_type": "execute_result"
    }
   ],
   "source": [
    "product_containers"
   ]
  },
  {
   "cell_type": "code",
   "execution_count": 11,
   "id": "624ca3af-8fce-4b96-952a-de225b43474b",
   "metadata": {},
   "outputs": [],
   "source": [
    "name=[]\n",
    "price=[]\n",
    "rating=[]"
   ]
  },
  {
   "cell_type": "code",
   "execution_count": 17,
   "id": "bd75526d-888a-407a-a0e3-8770a11b88c3",
   "metadata": {},
   "outputs": [],
   "source": [
    "product_containers = WebDriverWait(driver, 20).until(\n",
    "    EC.presence_of_all_elements_located((By.XPATH, \"//a[contains(@class, 'app-shadow')]\"))\n",
    ")\n"
   ]
  },
  {
   "cell_type": "code",
   "execution_count": 19,
   "id": "95671a14-2dd6-44d9-aa31-cf5746b6b018",
   "metadata": {},
   "outputs": [],
   "source": [
    "for product in product_containers:\n",
    "    try:\n",
    "        title_element = product.find_element(By.XPATH, \".//div[contains(@class, 'text-xs sm:text-lg leading')]\")\n",
    "        \n",
    "        # Append title in name\n",
    "        name.append(title_element.text.strip())\n",
    "    except Exception as e:\n",
    "        print(f\"Error extracting product name: {e}\")\n",
    "        name.append('N/A')\n",
    "    \n",
    "    cost=product.find_element(By.XPATH,\".//span[contains(@class, 'text-error-500 leading-none')]\")    \n",
    "    price.append(cost.text.strip())\n",
    "\n",
    "    rate=product.find_element(By.XPATH,\".//span[contains(@class, 'font-medium mr-0.5')]\")\n",
    "    rating.append(rate.text.strip())\n",
    "    "
   ]
  },
  {
   "cell_type": "code",
   "execution_count": 21,
   "id": "d1ffad11-f83a-44af-bc0e-9b072414ac09",
   "metadata": {},
   "outputs": [
    {
     "data": {
      "text/plain": [
       "['NPR. 961',\n",
       " 'NPR. 727.09',\n",
       " 'NPR. 1520',\n",
       " 'NPR. 650',\n",
       " 'NPR. 829.99',\n",
       " 'NPR. 1111.36',\n",
       " 'NPR. 2418',\n",
       " 'NPR. 1901.04',\n",
       " 'NPR. 594.27',\n",
       " 'NPR. 445.47',\n",
       " 'NPR. 450',\n",
       " 'NPR. 735.07',\n",
       " 'NPR. 568.8',\n",
       " 'NPR. 1949.01',\n",
       " 'NPR. 758.48',\n",
       " 'NPR. 872.69',\n",
       " 'NPR. 608.6',\n",
       " 'NPR. 1125',\n",
       " 'NPR. 1063.04',\n",
       " 'NPR. 1250',\n",
       " 'NPR. 462.03',\n",
       " 'NPR. 682.48',\n",
       " 'NPR. 363.09',\n",
       " 'NPR. 435.89']"
      ]
     },
     "execution_count": 21,
     "metadata": {},
     "output_type": "execute_result"
    }
   ],
   "source": [
    "price"
   ]
  },
  {
   "cell_type": "code",
   "execution_count": 23,
   "id": "cc2d5036-0e90-44c2-b58a-95e09899768d",
   "metadata": {},
   "outputs": [
    {
     "data": {
      "text/plain": [
       "['4.6/5',\n",
       " '4.7/5',\n",
       " '4.7/5',\n",
       " '4.7/5',\n",
       " '4.7/5',\n",
       " '4.4/5',\n",
       " '4.7/5',\n",
       " '4.8/5',\n",
       " '4.6/5',\n",
       " '4.4/5',\n",
       " '4.4/5',\n",
       " '4/5',\n",
       " '5/5',\n",
       " '4.7/5',\n",
       " '4.3/5',\n",
       " '4.6/5',\n",
       " '4.6/5',\n",
       " '4.7/5',\n",
       " '4.6/5',\n",
       " '4.4/5',\n",
       " '4.1/5',\n",
       " '4.6/5',\n",
       " '4.4/5',\n",
       " '4.4/5']"
      ]
     },
     "execution_count": 23,
     "metadata": {},
     "output_type": "execute_result"
    }
   ],
   "source": [
    "rating"
   ]
  },
  {
   "cell_type": "code",
   "execution_count": 29,
   "id": "84a72345-d94f-43f4-8cd2-9daca812d1cb",
   "metadata": {},
   "outputs": [],
   "source": [
    "Top_sellingProducts=pd.DataFrame({'Name of Product':name,'Price':price,'Ratings':rating})"
   ]
  },
  {
   "cell_type": "code",
   "execution_count": 31,
   "id": "80d784c3-9ffa-4723-98e8-b1c3879de569",
   "metadata": {},
   "outputs": [
    {
     "data": {
      "text/html": [
       "<div>\n",
       "<style scoped>\n",
       "    .dataframe tbody tr th:only-of-type {\n",
       "        vertical-align: middle;\n",
       "    }\n",
       "\n",
       "    .dataframe tbody tr th {\n",
       "        vertical-align: top;\n",
       "    }\n",
       "\n",
       "    .dataframe thead th {\n",
       "        text-align: right;\n",
       "    }\n",
       "</style>\n",
       "<table border=\"1\" class=\"dataframe\">\n",
       "  <thead>\n",
       "    <tr style=\"text-align: right;\">\n",
       "      <th></th>\n",
       "      <th>Name of Product</th>\n",
       "      <th>Price</th>\n",
       "      <th>Ratings</th>\n",
       "    </tr>\n",
       "  </thead>\n",
       "  <tbody>\n",
       "    <tr>\n",
       "      <th>0</th>\n",
       "      <td>Minimalist 10% Niacinamide Face Serum 30ml</td>\n",
       "      <td>NPR. 961</td>\n",
       "      <td>4.6/5</td>\n",
       "    </tr>\n",
       "    <tr>\n",
       "      <th>1</th>\n",
       "      <td>The Derma Co. 1% Hyaluronic Sunscreen Aqua Gel...</td>\n",
       "      <td>NPR. 727.09</td>\n",
       "      <td>4.7/5</td>\n",
       "    </tr>\n",
       "    <tr>\n",
       "      <th>2</th>\n",
       "      <td>The Ordinary Niacinamide 10% +zinc 1%- 30 Ml</td>\n",
       "      <td>NPR. 1520</td>\n",
       "      <td>4.7/5</td>\n",
       "    </tr>\n",
       "    <tr>\n",
       "      <th>3</th>\n",
       "      <td>O.two.o Instant Oversize Volume Lengthening Fi...</td>\n",
       "      <td>NPR. 650</td>\n",
       "      <td>4.7/5</td>\n",
       "    </tr>\n",
       "    <tr>\n",
       "      <th>4</th>\n",
       "      <td>Fixderma Shadow Spf 50+ Gel 75gm</td>\n",
       "      <td>NPR. 829.99</td>\n",
       "      <td>4.7/5</td>\n",
       "    </tr>\n",
       "    <tr>\n",
       "      <th>5</th>\n",
       "      <td>Kleida Skin Lightening Moisturiser 100gm</td>\n",
       "      <td>NPR. 1111.36</td>\n",
       "      <td>4.4/5</td>\n",
       "    </tr>\n",
       "    <tr>\n",
       "      <th>6</th>\n",
       "      <td>Cosrx Advanced Snail 92 All In One Cream 100 Gm</td>\n",
       "      <td>NPR. 2418</td>\n",
       "      <td>4.7/5</td>\n",
       "    </tr>\n",
       "    <tr>\n",
       "      <th>7</th>\n",
       "      <td>Beauty Of Joseon Spf 50 Relief Sun Cream, 50ml</td>\n",
       "      <td>NPR. 1901.04</td>\n",
       "      <td>4.8/5</td>\n",
       "    </tr>\n",
       "    <tr>\n",
       "      <th>8</th>\n",
       "      <td>Chemist At Play Exfoliating Body Wash 236ml</td>\n",
       "      <td>NPR. 594.27</td>\n",
       "      <td>4.6/5</td>\n",
       "    </tr>\n",
       "    <tr>\n",
       "      <th>9</th>\n",
       "      <td>Chemist At Play Under Arm Roll On - Peach Frag...</td>\n",
       "      <td>NPR. 445.47</td>\n",
       "      <td>4.4/5</td>\n",
       "    </tr>\n",
       "    <tr>\n",
       "      <th>10</th>\n",
       "      <td>Hada Labo Advanced Nourish Cleanser, 80 Gm</td>\n",
       "      <td>NPR. 450</td>\n",
       "      <td>4.4/5</td>\n",
       "    </tr>\n",
       "    <tr>\n",
       "      <th>11</th>\n",
       "      <td>Bare Anatomy Heat Protection Spray – 150ml</td>\n",
       "      <td>NPR. 735.07</td>\n",
       "      <td>4/5</td>\n",
       "    </tr>\n",
       "    <tr>\n",
       "      <th>12</th>\n",
       "      <td>Pilgrim 2% Niacinamide Glow Sunscreen Spf 50 P...</td>\n",
       "      <td>NPR. 568.8</td>\n",
       "      <td>5/5</td>\n",
       "    </tr>\n",
       "    <tr>\n",
       "      <th>13</th>\n",
       "      <td>Uv Doux Sunscreen Gel, Spf 50+, 100gm</td>\n",
       "      <td>NPR. 1949.01</td>\n",
       "      <td>4.7/5</td>\n",
       "    </tr>\n",
       "    <tr>\n",
       "      <th>14</th>\n",
       "      <td>Dr. Sheth’s Ceramide &amp; Vitamin C Sunscreen-50gm</td>\n",
       "      <td>NPR. 758.48</td>\n",
       "      <td>4.3/5</td>\n",
       "    </tr>\n",
       "    <tr>\n",
       "      <th>15</th>\n",
       "      <td>The Derma Co 10% Niacinamide Serum, 30ml</td>\n",
       "      <td>NPR. 872.69</td>\n",
       "      <td>4.6/5</td>\n",
       "    </tr>\n",
       "    <tr>\n",
       "      <th>16</th>\n",
       "      <td>Acnemoist Cream - For Acne Prone Skin, 60gm</td>\n",
       "      <td>NPR. 608.6</td>\n",
       "      <td>4.6/5</td>\n",
       "    </tr>\n",
       "    <tr>\n",
       "      <th>17</th>\n",
       "      <td>Uv Doux Sunscreen Gel, Spf 50+, 50gm</td>\n",
       "      <td>NPR. 1125</td>\n",
       "      <td>4.7/5</td>\n",
       "    </tr>\n",
       "    <tr>\n",
       "      <th>18</th>\n",
       "      <td>Mamaearth Aqua Glow Gel Face Moisturizer - 100 Ml</td>\n",
       "      <td>NPR. 1063.04</td>\n",
       "      <td>4.6/5</td>\n",
       "    </tr>\n",
       "    <tr>\n",
       "      <th>19</th>\n",
       "      <td>Jina Alchemy Cleansing Balm Makeup Remover, 100 G</td>\n",
       "      <td>NPR. 1250</td>\n",
       "      <td>4.4/5</td>\n",
       "    </tr>\n",
       "    <tr>\n",
       "      <th>20</th>\n",
       "      <td>Cosrx- Acne Pimple Master Patch</td>\n",
       "      <td>NPR. 462.03</td>\n",
       "      <td>4.1/5</td>\n",
       "    </tr>\n",
       "    <tr>\n",
       "      <th>21</th>\n",
       "      <td>Aqualogica Glow+ Sunscreen 50g</td>\n",
       "      <td>NPR. 682.48</td>\n",
       "      <td>4.6/5</td>\n",
       "    </tr>\n",
       "    <tr>\n",
       "      <th>22</th>\n",
       "      <td>The Derma Co 10% Niacinamide Serum, 10ml</td>\n",
       "      <td>NPR. 363.09</td>\n",
       "      <td>4.4/5</td>\n",
       "    </tr>\n",
       "    <tr>\n",
       "      <th>23</th>\n",
       "      <td>The Derma Co 1% Salicylic Acid Gel Face Wash 1...</td>\n",
       "      <td>NPR. 435.89</td>\n",
       "      <td>4.4/5</td>\n",
       "    </tr>\n",
       "  </tbody>\n",
       "</table>\n",
       "</div>"
      ],
      "text/plain": [
       "                                      Name of Product         Price Ratings\n",
       "0          Minimalist 10% Niacinamide Face Serum 30ml      NPR. 961   4.6/5\n",
       "1   The Derma Co. 1% Hyaluronic Sunscreen Aqua Gel...   NPR. 727.09   4.7/5\n",
       "2        The Ordinary Niacinamide 10% +zinc 1%- 30 Ml     NPR. 1520   4.7/5\n",
       "3   O.two.o Instant Oversize Volume Lengthening Fi...      NPR. 650   4.7/5\n",
       "4                    Fixderma Shadow Spf 50+ Gel 75gm   NPR. 829.99   4.7/5\n",
       "5            Kleida Skin Lightening Moisturiser 100gm  NPR. 1111.36   4.4/5\n",
       "6     Cosrx Advanced Snail 92 All In One Cream 100 Gm     NPR. 2418   4.7/5\n",
       "7      Beauty Of Joseon Spf 50 Relief Sun Cream, 50ml  NPR. 1901.04   4.8/5\n",
       "8         Chemist At Play Exfoliating Body Wash 236ml   NPR. 594.27   4.6/5\n",
       "9   Chemist At Play Under Arm Roll On - Peach Frag...   NPR. 445.47   4.4/5\n",
       "10         Hada Labo Advanced Nourish Cleanser, 80 Gm      NPR. 450   4.4/5\n",
       "11         Bare Anatomy Heat Protection Spray – 150ml   NPR. 735.07     4/5\n",
       "12  Pilgrim 2% Niacinamide Glow Sunscreen Spf 50 P...    NPR. 568.8     5/5\n",
       "13              Uv Doux Sunscreen Gel, Spf 50+, 100gm  NPR. 1949.01   4.7/5\n",
       "14    Dr. Sheth’s Ceramide & Vitamin C Sunscreen-50gm   NPR. 758.48   4.3/5\n",
       "15           The Derma Co 10% Niacinamide Serum, 30ml   NPR. 872.69   4.6/5\n",
       "16        Acnemoist Cream - For Acne Prone Skin, 60gm    NPR. 608.6   4.6/5\n",
       "17               Uv Doux Sunscreen Gel, Spf 50+, 50gm     NPR. 1125   4.7/5\n",
       "18  Mamaearth Aqua Glow Gel Face Moisturizer - 100 Ml  NPR. 1063.04   4.6/5\n",
       "19  Jina Alchemy Cleansing Balm Makeup Remover, 100 G     NPR. 1250   4.4/5\n",
       "20                    Cosrx- Acne Pimple Master Patch   NPR. 462.03   4.1/5\n",
       "21                     Aqualogica Glow+ Sunscreen 50g   NPR. 682.48   4.6/5\n",
       "22           The Derma Co 10% Niacinamide Serum, 10ml   NPR. 363.09   4.4/5\n",
       "23  The Derma Co 1% Salicylic Acid Gel Face Wash 1...   NPR. 435.89   4.4/5"
      ]
     },
     "execution_count": 31,
     "metadata": {},
     "output_type": "execute_result"
    }
   ],
   "source": [
    "Top_sellingProducts"
   ]
  },
  {
   "cell_type": "code",
   "execution_count": null,
   "id": "8c1bd45d-7bab-4c69-a9c0-d05a63ac607e",
   "metadata": {},
   "outputs": [],
   "source": []
  }
 ],
 "metadata": {
  "kernelspec": {
   "display_name": "Python 3 (ipykernel)",
   "language": "python",
   "name": "python3"
  },
  "language_info": {
   "codemirror_mode": {
    "name": "ipython",
    "version": 3
   },
   "file_extension": ".py",
   "mimetype": "text/x-python",
   "name": "python",
   "nbconvert_exporter": "python",
   "pygments_lexer": "ipython3",
   "version": "3.11.5"
  }
 },
 "nbformat": 4,
 "nbformat_minor": 5
}
