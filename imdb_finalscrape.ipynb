{
 "cells": [
  {
   "cell_type": "code",
   "execution_count": 1,
   "id": "5c484498",
   "metadata": {},
   "outputs": [],
   "source": [
    "from bs4 import BeautifulSoup\n",
    "import requests\n",
    "import pandas as pd\n",
    "import numpy as np"
   ]
  },
  {
   "cell_type": "code",
   "execution_count": 7,
   "id": "d3eee7d6",
   "metadata": {},
   "outputs": [],
   "source": [
    "#function to extract movie title\n",
    "def get_title(soup):\n",
    "    try:\n",
    "        title=soup.find(\"h3\",class_='ipc-title__text').text.strip()\n",
    "    except AttributeError:\n",
    "        title=\"\"\n",
    "    return title \n",
    "#to extract release date    \n",
    "def get_release_date(soup):\n",
    "    try:\n",
    "        release=soup.find('span',class_='sc-300a8231-7 eaXxft dli-title-metadata-item').text\n",
    "    except:\n",
    "        release=\"\"\n",
    "    return release\n",
    "#to extract ratings\n",
    "def get_rating(soup):\n",
    "    try:\n",
    "        release=soup.find('span',class_='ipc-rating-star--rating').string.strip()\n",
    "    except:\n",
    "        rating=\"\"\n",
    "    return rating\n",
    "\n",
    "#no.of ratings\n",
    "def get_review_counts(soup):\n",
    "    try:\n",
    "        review_count=soup.find(\"span\",class_='ipc-rating-star--voteCount').text\n",
    "    except AttributeError:\n",
    "        review_count=\"\"\n",
    "    return review_count    "
   ]
  },
  {
   "cell_type": "code",
   "execution_count": 14,
   "id": "00b48181",
   "metadata": {},
   "outputs": [
    {
     "name": "stdout",
     "output_type": "stream",
     "text": [
      "<Response [200]>\n",
      "<class 'bytes'>\n"
     ]
    }
   ],
   "source": [
    "if __name__ == '__main__':\n",
    "     Headers = ({'User-Agent':'Mozilla/5.0 (Windows NT 10.0; Win64; x64) AppleWebKit/537.36 (KHTML, like Gecko) Chrome/131.0.0.0 Safari/537.36','Accept-Language':'en-US,en;q=0.5'})\n",
    "    \n",
    "    #The Webpage URL\n",
    "     url = \"https://www.imdb.com/list/ls548439420/?ref_=hm_em00079_1_csegbest_movies_sm\"\n",
    "    #HTTP request\n",
    "     webpage=requests.get(url,headers=Headers)\n",
    "     print(webpage)\n",
    "\n",
    "     print(type(webpage.content))\n",
    "\n",
    "    #Converting bytes into html format\n",
    "\n",
    "     soup=BeautifulSoup(webpage.content, 'html.parser')"
   ]
  },
  {
   "cell_type": "code",
   "execution_count": null,
   "id": "d8c3ca98-407d-4bd9-b31f-c2086955ec88",
   "metadata": {},
   "outputs": [],
   "source": []
  }
 ],
 "metadata": {
  "kernelspec": {
   "display_name": "Python 3 (ipykernel)",
   "language": "python",
   "name": "python3"
  },
  "language_info": {
   "codemirror_mode": {
    "name": "ipython",
    "version": 3
   },
   "file_extension": ".py",
   "mimetype": "text/x-python",
   "name": "python",
   "nbconvert_exporter": "python",
   "pygments_lexer": "ipython3",
   "version": "3.11.5"
  }
 },
 "nbformat": 4,
 "nbformat_minor": 5
}
