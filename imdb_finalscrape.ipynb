{
 "cells": [
  {
   "cell_type": "code",
   "execution_count": 1,
   "id": "5c484498",
   "metadata": {},
   "outputs": [],
   "source": [
    "from bs4 import BeautifulSoup\n",
    "import requests\n",
    "import pandas as pd\n",
    "import numpy as np"
   ]
  },
  {
   "cell_type": "code",
   "execution_count": 63,
   "id": "0d9ec3c9-f0f7-4f6c-85c1-9fdf0fba42b7",
   "metadata": {},
   "outputs": [],
   "source": [
    "url=\"https://www.imdb.com/list/ls548439420/?ref_=hm_em00079_1_csegbest_movies_sm\"\n",
    "\n",
    "Headers = ({'User-Agent':'Mozilla/5.0 (Windows NT 10.0; Win64; x64) AppleWebKit/537.36 (KHTML, like Gecko) Chrome/131.0.0.0 Safari/537.36','Accept-Language':'en-US,en;q=0.5'})\n",
    "\n",
    "webpage=requests.get(url,headers=Headers)\n",
    "\n",
    "soup=BeautifulSoup(webpage.content,'html.parser')"
   ]
  },
  {
   "cell_type": "code",
   "execution_count": 93,
   "id": "c49f475b-82f3-459d-b5ba-2e9b1969ee07",
   "metadata": {},
   "outputs": [],
   "source": [
    "title=[]\n",
    "year=[]\n",
    "duration=[]\n",
    "rating=[]\n",
    "votes=[]\n"
   ]
  },
  {
   "cell_type": "code",
   "execution_count": 95,
   "id": "15b1c5d9-3c7d-42ba-b512-251bef2a55f8",
   "metadata": {},
   "outputs": [],
   "source": [
    "movie_data=soup.find_all('div',attrs={'class':'ipc-metadata-list-summary-item__c'})"
   ]
  },
  {
   "cell_type": "code",
   "execution_count": 139,
   "id": "d4807737-3b4e-466a-84bc-5f4a0772b184",
   "metadata": {},
   "outputs": [],
   "source": [
    "for store in movie_data:\n",
    "    name=store.h3.text.strip()\n",
    "    title.append(name)\n",
    "\n",
    "    year_of_release=store.div.find('span',class_='sc-300a8231-7 eaXxft dli-title-metadata-item').text\n",
    "    year.append(year_of_release)\n",
    "\n",
    "    rates=store.find('span',class_='ipc-rating-star--rating').text.split()\n",
    "    rating.append(rates)\n",
    "    count_ratings=store.div.find('span',class_='ipc-rating-star--voteCount').text.replace('\\xa0','')\n",
    "    votes.append(count_ratings)"
   ]
  },
  {
   "cell_type": "code",
   "execution_count": 141,
   "id": "cef7cefb-059d-44d6-923c-92aaeb274d4c",
   "metadata": {},
   "outputs": [
    {
     "data": {
      "text/plain": [
       "['\\xa0(407K)',\n",
       " '\\xa0(555K)',\n",
       " '\\xa0(236K)',\n",
       " '\\xa0(120K)',\n",
       " '\\xa0(180K)',\n",
       " '\\xa0(155K)',\n",
       " '\\xa0(198K)',\n",
       " '\\xa0(106K)',\n",
       " '\\xa0(137K)',\n",
       " '\\xa0(140K)',\n",
       " '(407K)',\n",
       " '(555K)',\n",
       " '(236K)',\n",
       " '(120K)',\n",
       " '(180K)',\n",
       " '(155K)',\n",
       " '(198K)',\n",
       " '(106K)',\n",
       " '(137K)',\n",
       " '(140K)',\n",
       " '(407K)',\n",
       " '(555K)',\n",
       " '(236K)',\n",
       " '(120K)',\n",
       " '(180K)',\n",
       " '(155K)',\n",
       " '(198K)',\n",
       " '(106K)',\n",
       " '(137K)',\n",
       " '(140K)']"
      ]
     },
     "execution_count": 141,
     "metadata": {},
     "output_type": "execute_result"
    }
   ],
   "source": [
    "votes"
   ]
  },
  {
   "cell_type": "code",
   "execution_count": null,
   "id": "41b02873-9520-426a-ac2b-714d200ae2da",
   "metadata": {},
   "outputs": [],
   "source": []
  }
 ],
 "metadata": {
  "kernelspec": {
   "display_name": "Python 3 (ipykernel)",
   "language": "python",
   "name": "python3"
  },
  "language_info": {
   "codemirror_mode": {
    "name": "ipython",
    "version": 3
   },
   "file_extension": ".py",
   "mimetype": "text/x-python",
   "name": "python",
   "nbconvert_exporter": "python",
   "pygments_lexer": "ipython3",
   "version": "3.11.5"
  }
 },
 "nbformat": 4,
 "nbformat_minor": 5
}
