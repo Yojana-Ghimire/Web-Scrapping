{
 "cells": [
  {
   "cell_type": "code",
   "execution_count": 9,
   "id": "e77d2624-987d-417c-91ab-f139a54949ef",
   "metadata": {},
   "outputs": [],
   "source": [
    "from bs4 import BeautifulSoup\n",
    "import requests\n",
    "import pandas as pd"
   ]
  },
  {
   "cell_type": "code",
   "execution_count": 19,
   "id": "6e271453-1281-4ef0-8022-e5e0c1bca01b",
   "metadata": {},
   "outputs": [],
   "source": [
    "links = soup.find(\"div\", attrs={\"class\": \"card-info gallery-card-layout-info\"})\n",
    "link=links.get('href')"
   ]
  },
  {
   "cell_type": "code",
   "execution_count": 21,
   "id": "12260de5-77cf-48df-94e4-5c3c48244e63",
   "metadata": {},
   "outputs": [],
   "source": [
    "link"
   ]
  },
  {
   "cell_type": "code",
   "execution_count": 23,
   "id": "560a710c-503d-459f-9a8b-5caff7c24eb8",
   "metadata": {},
   "outputs": [
    {
     "name": "stdout",
     "output_type": "stream",
     "text": [
      "Product link: //www.daraz.com.np/products/ultima-boom-141-anc-earbuds-30-db-45hrs-playtime-game-mode-40ms-ipx5-water-resistant-13-mm-drivers-for-deep-bass-wireless-earbuds-i128436556.html\n"
     ]
    }
   ],
   "source": [
    "html_content = '''<div class=\"RfADt\"><a href=\"//www.daraz.com.np/products/ultima-boom-141-anc-earbuds-30-db-45hrs-playtime-game-mode-40ms-ipx5-water-resistant-13-mm-drivers-for-deep-bass-wireless-earbuds-i128436556.html\" title=\"Ultima Boom 141 ANC Earbuds (30 dB) | 45Hrs Playtime | Game Mode (40ms) | IPX5 Water Resistant | 13 mm Drivers For Deep Bass Wireless Earbuds\"><i class=\"ic-dynamic-badge ic-dynamic-badge-116117 ic-dynamic-group-3\" style=\"background-image: url(&quot;https://img.lazcdn.com/us/lzd-onepiece/7d44bb39fe91237499f49a0ee76bbdab1717492966813.png&quot;); width: 40.6154px; height: 16px; background-size: 100% 100%; background-repeat: no-repeat;\"></i>Ultima Boom 141 ANC Earbuds (30 dB) | 45Hrs Playtime | Game Mode (40ms) | IPX5 Water Resistant | 13 mm Drivers For Deep Bass Wireless Earbuds</a></div><a href=\"//www.daraz.com.np/products/ultima-boom-141-anc-earbuds-30-db-45hrs-playtime-game-mode-40ms-ipx5-water-resistant-13-mm-drivers-for-deep-bass-wireless-earbuds-i128436556.html\" title=\"Ultima Boom 141 ANC Earbuds (30 dB) | 45Hrs Playtime | Game Mode (40ms) | IPX5 Water Resistant | 13 mm Drivers For Deep Bass Wireless Earbuds\"><i class=\"ic-dynamic-badge ic-dynamic-badge-116117 ic-dynamic-group-3\" style=\"background-image: url(&quot;https://img.lazcdn.com/us/lzd-onepiece/7d44bb39fe91237499f49a0ee76bbdab1717492966813.png&quot;); width: 40.6154px; height: 16px; background-size: 100% 100%; background-repeat: no-repeat;\"></i>Ultima Boom 141 ANC Earbuds (30 dB) | 45Hrs Playtime | Game Mode (40ms) | IPX5 Water Resistant | 13 mm Drivers For Deep Bass Wireless Earbuds</a>'''\n",
    "\n",
    "# Create a BeautifulSoup object\n",
    "soup = BeautifulSoup(html_content, 'html.parser')\n",
    "\n",
    "# Find the <div> tag with class 'RfADt', and then find the <a> tag inside it\n",
    "a_tag = soup.find('div', class_='RfADt').find('a', href=True)\n",
    "\n",
    "# Extract the href attribute (the product link)\n",
    "product_link = a_tag['href']\n",
    "\n",
    "# Print the extracted product link\n",
    "print(\"Product link:\", product_link)"
   ]
  },
  {
   "cell_type": "code",
   "execution_count": 13,
   "id": "750f3b07-3d1a-42bd-86ec-b9a7e52aa199",
   "metadata": {},
   "outputs": [],
   "source": [
    "\n",
    "# URL of the webpage to scrape\n",
    "url = 'https://www.daraz.com.np/catalog/?spm=a2a0e.tm80335409.search.d_go&q=ultima'\n",
    "\n",
    "# Send a GET request to fetch the page content\n",
    "response = requests.get(url)\n",
    "\n",
    "# Check if the request was successful\n",
    "if response.status_code == 200:\n",
    "    # Parse the HTML content\n",
    "    soup = BeautifulSoup(response.text, 'html.parser')\n",
    "\n",
    "    product_links = []\n",
    "\n",
    "    for div in soup.find_all('div', class_='RfADt'):\n",
    "        a_tag = div.find('a', href=True)\n",
    "        if a_tag:\n",
    "            href = a_tag['href']\n",
    "            product_links.append('https://www.daraz.com.np' + href)\n",
    "\n",
    "    for link in product_links:\n",
    "        print(link)\n",
    "else:\n",
    "    print(f\"Failed to retrieve the page. Status code: {response.status_code}\")\n"
   ]
  },
  {
   "cell_type": "code",
   "execution_count": null,
   "id": "bb518cc8-7032-4390-b6cb-315458c1e8ac",
   "metadata": {},
   "outputs": [],
   "source": []
  }
 ],
 "metadata": {
  "kernelspec": {
   "display_name": "Python 3 (ipykernel)",
   "language": "python",
   "name": "python3"
  },
  "language_info": {
   "codemirror_mode": {
    "name": "ipython",
    "version": 3
   },
   "file_extension": ".py",
   "mimetype": "text/x-python",
   "name": "python",
   "nbconvert_exporter": "python",
   "pygments_lexer": "ipython3",
   "version": "3.11.5"
  }
 },
 "nbformat": 4,
 "nbformat_minor": 5
}
